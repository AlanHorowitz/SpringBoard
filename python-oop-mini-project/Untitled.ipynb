{
 "cells": [
  {
   "cell_type": "code",
   "execution_count": 27,
   "metadata": {},
   "outputs": [],
   "source": [
    "class Account():\n",
    "\n",
    "    def __init__(self): pass\n",
    "    def deposit_metadata(self):\n",
    "        d = {'deposit' : ('Deposit to account',[('a1', 'Please enter a1'),('b1', 'Please enter b1')])}\n",
    "        return d\n",
    "    def deposit(self,a1,b1): pass\n",
    "    def transfer_metadata(self):\n",
    "        d = {'transfer': ('Transfer between accounts',[('c1', 'Please enter c1')])}\n",
    "        return d\n",
    "    def transfer(self,c1): pass\n",
    "    def get_transaction_types_metadata(self):\n",
    "        d = {}\n",
    "        d.update(self.deposit_metadata())\n",
    "        d.update(self.transfer_metadata())\n",
    "        return d\n",
    "   \n",
    "class SavingsAccount(Account):\n",
    "    \n",
    "    def __init__(self): pass\n",
    "    def get_transaction_types_metadata(self): pass\n",
    "    def withdraw(self,d2): pass\n",
    "\n",
    "    \n",
    "class CheckingAccount(Account):\n",
    "\n",
    "    def __init__(self): pass\n",
    "    def get_transaction_types_metadata(self):  \n",
    "        d = super().get_transaction_types_metadata()\n",
    "        d.update(self.deposit_metadata())\n",
    "        return d\n",
    "                 \n",
    "    def deposit_metadata(self):\n",
    "        d = {'deposit' : ('Deposit to account',[('a3', 'Please enter a3'),('b3', 'Please enter b3'),\n",
    "                                               ( 'c3', 'Please enter c3')])}\n",
    "        return d\n",
    "    def deposit(self,a3,b3,c3): pass\n",
    "    def order_checks(self,e3): pass\n",
    "    def write_check(self,f3):  pass"
   ]
  },
  {
   "cell_type": "code",
   "execution_count": 28,
   "metadata": {},
   "outputs": [
    {
     "data": {
      "text/plain": [
       "{'deposit': ('Deposit to account',\n",
       "  [('a1', 'Please enter a1'), ('b1', 'Please enter b1')]),\n",
       " 'transfer': ('Transfer between accounts', [('c1', 'Please enter c1')])}"
      ]
     },
     "execution_count": 28,
     "metadata": {},
     "output_type": "execute_result"
    }
   ],
   "source": [
    "a = Account()\n",
    "\n",
    "dep = a.deposit_metadata()\n",
    "tran = a.transfer_metadata()\n",
    "dep,tran\n",
    "combo = a.get_transaction_types_metadata()\n",
    "combo"
   ]
  },
  {
   "cell_type": "code",
   "execution_count": 29,
   "metadata": {},
   "outputs": [],
   "source": [
    "ch = CheckingAccount()\n"
   ]
  },
  {
   "cell_type": "code",
   "execution_count": 30,
   "metadata": {},
   "outputs": [
    {
     "data": {
      "text/plain": [
       "{'deposit': ('Deposit to account',\n",
       "  [('a3', 'Please enter a3'),\n",
       "   ('b3', 'Please enter b3'),\n",
       "   ('c3', 'Please enter c3')])}"
      ]
     },
     "execution_count": 30,
     "metadata": {},
     "output_type": "execute_result"
    }
   ],
   "source": [
    "ch.deposit_metadata()"
   ]
  },
  {
   "cell_type": "code",
   "execution_count": 31,
   "metadata": {},
   "outputs": [
    {
     "data": {
      "text/plain": [
       "{'deposit': ('Deposit to account',\n",
       "  [('a3', 'Please enter a3'),\n",
       "   ('b3', 'Please enter b3'),\n",
       "   ('c3', 'Please enter c3')]),\n",
       " 'transfer': ('Transfer between accounts', [('c1', 'Please enter c1')])}"
      ]
     },
     "execution_count": 31,
     "metadata": {},
     "output_type": "execute_result"
    }
   ],
   "source": [
    "ch.get_transaction_types_metadata()"
   ]
  },
  {
   "cell_type": "code",
   "execution_count": null,
   "metadata": {},
   "outputs": [],
   "source": []
  }
 ],
 "metadata": {
  "kernelspec": {
   "display_name": "Python 3",
   "language": "python",
   "name": "python3"
  },
  "language_info": {
   "codemirror_mode": {
    "name": "ipython",
    "version": 3
   },
   "file_extension": ".py",
   "mimetype": "text/x-python",
   "name": "python",
   "nbconvert_exporter": "python",
   "pygments_lexer": "ipython3",
   "version": "3.8.5"
  }
 },
 "nbformat": 4,
 "nbformat_minor": 4
}
