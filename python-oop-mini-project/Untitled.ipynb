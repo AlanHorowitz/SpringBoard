{
 "cells": [
  {
   "cell_type": "code",
   "execution_count": 10,
   "metadata": {},
   "outputs": [],
   "source": [
    "class Account():\n",
    "\n",
    "    def __init__(self): pass\n",
    "    deposit_metadata = {'deposit' : ('Deposit to account',[('a1', 'Please enter a1'),('b1', 'Please enter b1')])}\n",
    "    def deposit(self,a1,b1): pass\n",
    "    transfer_metadata = {'transfer': ('Transfer between accounts',[('c1', 'Please enter c1')])}\n",
    "    def transfer(self,c1): pass\n",
    "    def get_transaction_types_metadata(self):\n",
    "        d = {}\n",
    "        d.update(self.deposit_metadata)\n",
    "        d.update(self.transfer_metadata)\n",
    "        return d\n",
    "   \n",
    "class SavingsAccount(Account):\n",
    "    \n",
    "    def __init__(self): pass\n",
    "    def get_transaction_types_metadata(self): pass\n",
    "    def withdraw(self,d2): pass\n",
    "\n",
    "    \n",
    "class CheckingAccount(Account):\n",
    "\n",
    "    def __init__(self): pass\n",
    "    def get_transaction_types_metadata(self):  \n",
    "        d = super().get_transaction_types_metadata()\n",
    "        d.update(self.deposit_metadata)\n",
    "        return d\n",
    "                 \n",
    "    deposit_metadata = {'deposit' : ('Deposit to account',[('a3', 'Please enter a3'),('b3', 'Please enter b3'),\n",
    "                                               ( 'c3', 'Please enter c3')])}    \n",
    "    def deposit(self,a3,b3,c3): pass\n",
    "    def order_checks(self,e3): pass\n",
    "    def write_check(self,f3):  pass"
   ]
  },
  {
   "cell_type": "code",
   "execution_count": 15,
   "metadata": {},
   "outputs": [
    {
     "data": {
      "text/plain": [
       "{'deposit': ('Deposit to account',\n",
       "  [('a1', 'Please enter a1'), ('b1', 'Please enter b1')]),\n",
       " 'transfer': ('Transfer between accounts', [('c1', 'Please enter c1')])}"
      ]
     },
     "execution_count": 15,
     "metadata": {},
     "output_type": "execute_result"
    }
   ],
   "source": [
    "a = Account()\n",
    "\n",
    "dep = a.deposit_metadata\n",
    "tran = a.transfer_metadata\n",
    "dep,tran\n",
    "combo = a.get_transaction_types_metadata()\n",
    "combo"
   ]
  },
  {
   "cell_type": "code",
   "execution_count": 12,
   "metadata": {},
   "outputs": [],
   "source": [
    "ch = CheckingAccount()\n"
   ]
  },
  {
   "cell_type": "code",
   "execution_count": 13,
   "metadata": {},
   "outputs": [
    {
     "data": {
      "text/plain": [
       "{'deposit': ('Deposit to account',\n",
       "  [('a3', 'Please enter a3'),\n",
       "   ('b3', 'Please enter b3'),\n",
       "   ('c3', 'Please enter c3')])}"
      ]
     },
     "execution_count": 13,
     "metadata": {},
     "output_type": "execute_result"
    }
   ],
   "source": [
    "ch.deposit_metadata"
   ]
  },
  {
   "cell_type": "code",
   "execution_count": 14,
   "metadata": {},
   "outputs": [
    {
     "data": {
      "text/plain": [
       "{'deposit': ('Deposit to account',\n",
       "  [('a3', 'Please enter a3'),\n",
       "   ('b3', 'Please enter b3'),\n",
       "   ('c3', 'Please enter c3')]),\n",
       " 'transfer': ('Transfer between accounts', [('c1', 'Please enter c1')])}"
      ]
     },
     "execution_count": 14,
     "metadata": {},
     "output_type": "execute_result"
    }
   ],
   "source": [
    "ch.get_transaction_types_metadata()"
   ]
  },
  {
   "cell_type": "code",
   "execution_count": 28,
   "metadata": {},
   "outputs": [],
   "source": [
    "def select_from_menu(header, question, options):\n",
    "\n",
    "    print('\\033c', end='')  # clear screen\n",
    "    print('-' * len(header))\n",
    "    print(header)\n",
    "    print('-' * len(header))\n",
    "    print('\\n' + question + '\\n')\n",
    "    for i, option in enumerate(options):\n",
    "        print(\"[\" + str(i+1) + \"] \" + option[0])\n",
    "\n",
    "    while True:\n",
    "        print(\"\\nPlease Enter from menu. Use [{0}] to quit: \".format(len(options)), end='')\n",
    "        s = input().strip()\n",
    "        if s.isnumeric() and int(s) in range(1,len(options)+1):\n",
    "            return options[int(s)-1][1]\n"
   ]
  },
  {
   "cell_type": "code",
   "execution_count": 29,
   "metadata": {},
   "outputs": [],
   "source": [
    "header = \"     Welcome to Simple Friendly Bank     \"\n",
    "question = \"What would you like to do?\"\n",
    "options = ((\"Open a new account\", \"OPEN_NEW_ACCOUNT\"),\n",
    "            (\"Access an existing account\", \"ACCESS_EXISTING_ACCOUNT\"),\n",
    "            (\"Quit\", \"QUIT\"))"
   ]
  },
  {
   "cell_type": "code",
   "execution_count": 31,
   "metadata": {},
   "outputs": [
    {
     "name": "stdout",
     "output_type": "stream",
     "text": [
      "\u001bc-----------------------------------------\n",
      "     Welcome to Simple Friendly Bank     \n",
      "-----------------------------------------\n",
      "\n",
      "What would you like to do?\n",
      "\n",
      "[1] Open a new account\n",
      "[2] Access an existing account\n",
      "[3] Quit\n",
      "\n",
      "Please Enter from menu. Use [3] to quit: yyy\n",
      "\n",
      "Please Enter from menu. Use [3] to quit: y\n",
      "\n",
      "Please Enter from menu. Use [3] to quit: u\n",
      "\n",
      "Please Enter from menu. Use [3] to quit: 4\n",
      "\n",
      "Please Enter from menu. Use [3] to quit: 3\n"
     ]
    },
    {
     "data": {
      "text/plain": [
       "'QUIT'"
      ]
     },
     "execution_count": 31,
     "metadata": {},
     "output_type": "execute_result"
    }
   ],
   "source": [
    "select_from_menu(header, question, options)  "
   ]
  },
  {
   "cell_type": "code",
   "execution_count": 27,
   "metadata": {},
   "outputs": [
    {
     "name": "stdout",
     "output_type": "stream",
     "text": [
      "\u001b\n"
     ]
    }
   ],
   "source": [
    "print(\"\\033\")"
   ]
  },
  {
   "cell_type": "code",
   "execution_count": 34,
   "metadata": {},
   "outputs": [],
   "source": [
    "class Test():\n",
    "    def __init__(self, n):\n",
    "        self._id = n\n",
    "    \n",
    "    @property\n",
    "    def id(self):\n",
    "        return self._id\n",
    "        "
   ]
  },
  {
   "cell_type": "code",
   "execution_count": 35,
   "metadata": {},
   "outputs": [],
   "source": [
    "a = Test(17)"
   ]
  },
  {
   "cell_type": "code",
   "execution_count": 36,
   "metadata": {},
   "outputs": [
    {
     "data": {
      "text/plain": [
       "17"
      ]
     },
     "execution_count": 36,
     "metadata": {},
     "output_type": "execute_result"
    }
   ],
   "source": [
    "a.id\n"
   ]
  },
  {
   "cell_type": "code",
   "execution_count": 37,
   "metadata": {},
   "outputs": [
    {
     "data": {
      "text/plain": [
       "int"
      ]
     },
     "execution_count": 37,
     "metadata": {},
     "output_type": "execute_result"
    }
   ],
   "source": [
    "type(a.id)\n"
   ]
  },
  {
   "cell_type": "code",
   "execution_count": 38,
   "metadata": {},
   "outputs": [
    {
     "data": {
      "text/plain": [
       "['__class__',\n",
       " '__delattr__',\n",
       " '__dict__',\n",
       " '__dir__',\n",
       " '__doc__',\n",
       " '__eq__',\n",
       " '__format__',\n",
       " '__ge__',\n",
       " '__getattribute__',\n",
       " '__gt__',\n",
       " '__hash__',\n",
       " '__init__',\n",
       " '__init_subclass__',\n",
       " '__le__',\n",
       " '__lt__',\n",
       " '__module__',\n",
       " '__ne__',\n",
       " '__new__',\n",
       " '__reduce__',\n",
       " '__reduce_ex__',\n",
       " '__repr__',\n",
       " '__setattr__',\n",
       " '__sizeof__',\n",
       " '__str__',\n",
       " '__subclasshook__',\n",
       " '__weakref__',\n",
       " '_id',\n",
       " 'id']"
      ]
     },
     "execution_count": 38,
     "metadata": {},
     "output_type": "execute_result"
    }
   ],
   "source": [
    "dir(a)\n"
   ]
  },
  {
   "cell_type": "code",
   "execution_count": 39,
   "metadata": {},
   "outputs": [
    {
     "ename": "TypeError",
     "evalue": "'int' object is not callable",
     "output_type": "error",
     "traceback": [
      "\u001b[0;31m---------------------------------------------------------------------------\u001b[0m",
      "\u001b[0;31mTypeError\u001b[0m                                 Traceback (most recent call last)",
      "\u001b[0;32m<ipython-input-39-65d56a477230>\u001b[0m in \u001b[0;36m<module>\u001b[0;34m\u001b[0m\n\u001b[0;32m----> 1\u001b[0;31m \u001b[0ma\u001b[0m\u001b[0;34m.\u001b[0m\u001b[0mid\u001b[0m\u001b[0;34m(\u001b[0m\u001b[0;34m)\u001b[0m\u001b[0;34m\u001b[0m\u001b[0;34m\u001b[0m\u001b[0m\n\u001b[0m",
      "\u001b[0;31mTypeError\u001b[0m: 'int' object is not callable"
     ]
    }
   ],
   "source": [
    "a.id()"
   ]
  },
  {
   "cell_type": "code",
   "execution_count": 40,
   "metadata": {},
   "outputs": [
    {
     "ename": "AttributeError",
     "evalue": "can't set attribute",
     "output_type": "error",
     "traceback": [
      "\u001b[0;31m---------------------------------------------------------------------------\u001b[0m",
      "\u001b[0;31mAttributeError\u001b[0m                            Traceback (most recent call last)",
      "\u001b[0;32m<ipython-input-40-f8171a1fc4f6>\u001b[0m in \u001b[0;36m<module>\u001b[0;34m\u001b[0m\n\u001b[0;32m----> 1\u001b[0;31m \u001b[0ma\u001b[0m\u001b[0;34m.\u001b[0m\u001b[0mid\u001b[0m \u001b[0;34m=\u001b[0m \u001b[0;36m4\u001b[0m\u001b[0;34m\u001b[0m\u001b[0;34m\u001b[0m\u001b[0m\n\u001b[0m",
      "\u001b[0;31mAttributeError\u001b[0m: can't set attribute"
     ]
    }
   ],
   "source": [
    "a.id = 4\n"
   ]
  },
  {
   "cell_type": "code",
   "execution_count": null,
   "metadata": {},
   "outputs": [],
   "source": []
  }
 ],
 "metadata": {
  "kernelspec": {
   "display_name": "Python 3",
   "language": "python",
   "name": "python3"
  },
  "language_info": {
   "codemirror_mode": {
    "name": "ipython",
    "version": 3
   },
   "file_extension": ".py",
   "mimetype": "text/x-python",
   "name": "python",
   "nbconvert_exporter": "python",
   "pygments_lexer": "ipython3",
   "version": "3.8.5"
  }
 },
 "nbformat": 4,
 "nbformat_minor": 4
}
