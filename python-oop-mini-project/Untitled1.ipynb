{
 "cells": [
  {
   "cell_type": "code",
   "execution_count": 6,
   "metadata": {},
   "outputs": [],
   "source": [
    "from account2 import Account, CheckingAccount"
   ]
  },
  {
   "cell_type": "code",
   "execution_count": 7,
   "metadata": {},
   "outputs": [
    {
     "name": "stdout",
     "output_type": "stream",
     "text": [
      "account2.py  banking.py       customer.py  __pycache__\t    Untitled.ipynb\r\n",
      "account.py   banking_test.py  main.py\t   Untitled1.ipynb\r\n"
     ]
    }
   ],
   "source": [
    "!ls"
   ]
  },
  {
   "cell_type": "code",
   "execution_count": 8,
   "metadata": {},
   "outputs": [],
   "source": [
    "a = Account()"
   ]
  },
  {
   "cell_type": "code",
   "execution_count": 9,
   "metadata": {},
   "outputs": [
    {
     "data": {
      "text/plain": [
       "{'open': ('No Display',\n",
       "  [('opening_balance', 'Please enter a starting balance')])}"
      ]
     },
     "execution_count": 9,
     "metadata": {},
     "output_type": "execute_result"
    }
   ],
   "source": [
    "a.get_open_metadata()"
   ]
  },
  {
   "cell_type": "code",
   "execution_count": 26,
   "metadata": {},
   "outputs": [
    {
     "name": "stdout",
     "output_type": "stream",
     "text": [
      "Please enter a starting balance100\n",
      "Please enter a starting balance200\n",
      "Please enter your initial number of checks (default is 10)250\n",
      "100\n",
      "200 250\n"
     ]
    }
   ],
   "source": [
    "acc = Account()\n",
    "chacc = CheckingAccount()\n",
    "\n",
    "def open_account(account):\n",
    "    \n",
    "    open_metadata = account.get_open_metadata()\n",
    "    open_metadata_parameters = open_metadata['open'][1]\n",
    "    kwargs = {parm : input(text) for parm, text in open_metadata_parameters}\n",
    "    account.open(**kwargs)\n",
    "\n",
    "open_account(acc)\n",
    "open_account(chacc)\n",
    "\n",
    "print(acc.balance)\n",
    "print(chacc.balance, chacc.remaining_checks)\n"
   ]
  },
  {
   "cell_type": "code",
   "execution_count": 22,
   "metadata": {},
   "outputs": [
    {
     "data": {
      "text/plain": [
       "<account2.CheckingAccount at 0x7fc0642f5490>"
      ]
     },
     "execution_count": 22,
     "metadata": {},
     "output_type": "execute_result"
    }
   ],
   "source": [
    "ch"
   ]
  },
  {
   "cell_type": "code",
   "execution_count": 23,
   "metadata": {},
   "outputs": [
    {
     "data": {
      "text/plain": [
       "['__class__',\n",
       " '__delattr__',\n",
       " '__dict__',\n",
       " '__dir__',\n",
       " '__doc__',\n",
       " '__eq__',\n",
       " '__format__',\n",
       " '__ge__',\n",
       " '__getattribute__',\n",
       " '__gt__',\n",
       " '__hash__',\n",
       " '__init__',\n",
       " '__init_subclass__',\n",
       " '__le__',\n",
       " '__lt__',\n",
       " '__module__',\n",
       " '__ne__',\n",
       " '__new__',\n",
       " '__reduce__',\n",
       " '__reduce_ex__',\n",
       " '__repr__',\n",
       " '__setattr__',\n",
       " '__sizeof__',\n",
       " '__str__',\n",
       " '__subclasshook__',\n",
       " '__weakref__',\n",
       " 'balance',\n",
       " 'deposit',\n",
       " 'deposit_metadata',\n",
       " 'get_open_metadata',\n",
       " 'get_transaction_metadata',\n",
       " 'open',\n",
       " 'open_metadata',\n",
       " 'order_checks',\n",
       " 'remaining_checks',\n",
       " 'transfer',\n",
       " 'transfer_metadata',\n",
       " 'write_check']"
      ]
     },
     "execution_count": 23,
     "metadata": {},
     "output_type": "execute_result"
    }
   ],
   "source": [
    "dir(ch)"
   ]
  },
  {
   "cell_type": "code",
   "execution_count": 24,
   "metadata": {},
   "outputs": [
    {
     "data": {
      "text/plain": [
       "'60'"
      ]
     },
     "execution_count": 24,
     "metadata": {},
     "output_type": "execute_result"
    }
   ],
   "source": [
    "ch.remaining_checks"
   ]
  },
  {
   "cell_type": "code",
   "execution_count": 27,
   "metadata": {},
   "outputs": [
    {
     "data": {
      "text/plain": [
       "True"
      ]
     },
     "execution_count": 27,
     "metadata": {},
     "output_type": "execute_result"
    }
   ],
   "source": [
    "6 in range(10\n",
    "          )"
   ]
  },
  {
   "cell_type": "code",
   "execution_count": 39,
   "metadata": {},
   "outputs": [],
   "source": [
    "class CustomerAlreadyExistsException(Exception):\n",
    "    pass\n",
    "\n",
    "class Customer():\n",
    "\n",
    "    CUSTOMER_ID_PREFIX = \"CUST\"\n",
    "    next_customer_id = 1\n",
    "\n",
    "    def __init__(self):\n",
    "\n",
    "        self._id = Customer.CUSTOMER_ID_PREFIX + str(Customer.next_customer_id)\n",
    "        self._accounts = []\n",
    "\n",
    "        self._first_name = \"\"\n",
    "        self._last_name = \"\"\n",
    "        self._social_security_number = \"\"\n",
    "\n",
    "        self._street_address = \"\"\n",
    "        self._state = \"\"\n",
    "        self._zip_code = \"\"\n",
    "        self._pin = \"\" \n",
    "\n",
    "    def get_info_metadata(self):\n",
    "\n",
    "        return {'set_info': ('No Display',[('first_name', 'Please enter your first name:'),\n",
    "                                             ('last_name', 'Please enter your last name:'),\n",
    "                                             ('social_security_number', 'Please enter your social security number'),   \n",
    "                                            ('pin','Please enter your personal identification number' )])}\n",
    "        \n",
    "    def set_info(self, **kwargs):\n",
    "\n",
    "        self._first_name = kwargs.get('first_name')\n",
    "        self._last_name = kwargs.get('last_name')\n",
    "        self._social_security_number = kwargs.get('social_security_number')\n",
    "        self._pin = kwargs.get('pin')\n",
    "\n",
    "\n",
    "\n",
    "    @property\n",
    "    def id(self):   \n",
    "        return self._id\n",
    "\n",
    "    def add_account(self, account_id):\n",
    "        self._accounts.append(account_id)\n",
    "\n",
    "    def __eq__(self, other):\n",
    "        if isinstance(other, Customer):\n",
    "            if ((self.first_name == other.first_name) and \n",
    "                (self.last_name == other.last_name) and \n",
    "                (self.ssn == other.ssn)):\n",
    "                    return True\n",
    "        return False\n",
    "             \n",
    "    "
   ]
  },
  {
   "cell_type": "code",
   "execution_count": 40,
   "metadata": {},
   "outputs": [],
   "source": [
    "c = Customer()"
   ]
  },
  {
   "cell_type": "code",
   "execution_count": 41,
   "metadata": {},
   "outputs": [
    {
     "data": {
      "text/plain": [
       "'CUST1'"
      ]
     },
     "execution_count": 41,
     "metadata": {},
     "output_type": "execute_result"
    }
   ],
   "source": [
    "c._id"
   ]
  },
  {
   "cell_type": "code",
   "execution_count": 43,
   "metadata": {},
   "outputs": [
    {
     "data": {
      "text/plain": [
       "'CUST1'"
      ]
     },
     "execution_count": 43,
     "metadata": {},
     "output_type": "execute_result"
    }
   ],
   "source": [
    "c.id"
   ]
  },
  {
   "cell_type": "code",
   "execution_count": 34,
   "metadata": {},
   "outputs": [
    {
     "data": {
      "text/plain": [
       "''"
      ]
     },
     "execution_count": 34,
     "metadata": {},
     "output_type": "execute_result"
    }
   ],
   "source": [
    "c._first_name"
   ]
  },
  {
   "cell_type": "code",
   "execution_count": 44,
   "metadata": {},
   "outputs": [],
   "source": [
    "c.set_info(first_name='Alan', last_name=\"Horowitz\")"
   ]
  },
  {
   "cell_type": "code",
   "execution_count": 45,
   "metadata": {},
   "outputs": [
    {
     "data": {
      "text/plain": [
       "'Alan'"
      ]
     },
     "execution_count": 45,
     "metadata": {},
     "output_type": "execute_result"
    }
   ],
   "source": [
    "c._first_name"
   ]
  },
  {
   "cell_type": "code",
   "execution_count": 46,
   "metadata": {},
   "outputs": [
    {
     "data": {
      "text/plain": [
       "'Horowitz'"
      ]
     },
     "execution_count": 46,
     "metadata": {},
     "output_type": "execute_result"
    }
   ],
   "source": [
    "c._last_name"
   ]
  },
  {
   "cell_type": "code",
   "execution_count": null,
   "metadata": {},
   "outputs": [],
   "source": []
  }
 ],
 "metadata": {
  "kernelspec": {
   "display_name": "Python 3",
   "language": "python",
   "name": "python3"
  },
  "language_info": {
   "codemirror_mode": {
    "name": "ipython",
    "version": 3
   },
   "file_extension": ".py",
   "mimetype": "text/x-python",
   "name": "python",
   "nbconvert_exporter": "python",
   "pygments_lexer": "ipython3",
   "version": "3.8.5"
  }
 },
 "nbformat": 4,
 "nbformat_minor": 4
}
